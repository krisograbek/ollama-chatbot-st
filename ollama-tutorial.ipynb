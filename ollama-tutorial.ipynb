{
 "cells": [
  {
   "cell_type": "markdown",
   "metadata": {},
   "source": [
    "## Introduction\n",
    "\n",
    "In this notebook, we'll explore how to use open-source models with **Ollama**.\n",
    "\n",
    "**Ollama** is a convenient platform for local development of open-source AI models.\n",
    "Before Ollama, it used to be complicated to run open-source LLMs locally. It used to be very technical and required good understanding of computer hardware and architecture.\n",
    "\n",
    "With Ollama, running local models is straightforward.\n",
    "\n",
    "Here's all you need:\n",
    "1. [Download Ollama](https://ollama.com/download) on you local system.\n",
    "2. Download one of the local models on your computer using Ollama.\n",
    "For example, if I want to use Llama3, I need to open the terminal and run:\n",
    "```bash\n",
    "$ ollama run llama3\n",
    "```\n",
    "\n",
    "If it's the first time I use the model, Ollama will first download it. Because it has 8B parameters, it'll take a while.\n",
    "\n",
    "Once the model is downloaded, we can also use it through Ollama API.\n",
    "\n",
    "To install Ollama API, run the following command:\n",
    "```bash\n",
    "$ pip install ollama\n",
    "```\n",
    "\n",
    "And with these steps, you're ready to run the code from this notebook."
   ]
  },
  {
   "cell_type": "markdown",
   "metadata": {},
   "source": [
    "### Simple Response\n",
    "\n",
    "Now it's time to test our model. Let's just ask a simple question to see how it works."
   ]
  },
  {
   "cell_type": "code",
   "execution_count": 2,
   "metadata": {},
   "outputs": [
    {
     "name": "stdout",
     "output_type": "stream",
     "text": [
      "The capital of Poland is Warsaw (Polish: Warszawa).\n"
     ]
    }
   ],
   "source": [
    "import ollama\n",
    "\n",
    "model = \"llama3\"\n",
    "\n",
    "response = ollama.chat(\n",
    "    model=model, \n",
    "    messages=[\n",
    "        {\"role\": \"user\", \"content\": \"What's the capital of Poland?\"}\n",
    "    ]\n",
    ")\n",
    "\n",
    "print(response[\"message\"][\"content\"])"
   ]
  },
  {
   "cell_type": "markdown",
   "metadata": {},
   "source": [
    "Awesome!\n",
    "\n",
    "Here's all we did:\n",
    "- `import ollama` to use Ollama API\n",
    "- `model = \"llama3` to define the model we want to use\n",
    "- `ollama.chat()` to get the response. We used 2 parameters:\n",
    "    1. `model` that we defined before\n",
    "    2. `messages` where we keep the list of messages\n",
    "\n",
    "To get the response, we dig in the `response` object for `[\"message\"][\"content\"]`.\n"
   ]
  },
  {
   "cell_type": "markdown",
   "metadata": {},
   "source": [
    "## Explaining message roles\n",
    "\n",
    "As you notices, the `messages` parameter is an array of objects. Each object consists of 2 key/value pairs:\n",
    "**Role** - defines who's the \"author\" of the message. We've got 3 roles:\n",
    "1. *User* - aka you.\n",
    "2. *Assistant* - aka AI model.\n",
    "3. *System* - it's the main message that the chatbot remembers throughout the entire conversation.\n",
    "\n",
    "**Content** - it's the actual message"
   ]
  },
  {
   "cell_type": "markdown",
   "metadata": {},
   "source": [
    "### System Message\n",
    "\n",
    "As I mentioned, system message is the instruction that the chatbot remembers all the time. \n",
    "\n",
    "Here's the image to picture that:\n",
    "\n",
    "<img src=\"images/system2.png\" alt=\"systemImage\" width=500 />\n",
    "\n",
    "\n",
    "Here are the main benefits of using system prompt:\n",
    "- user doesn’t see it\n",
    "- place for additional security\n",
    "- helps preventing prompt injections\n",
    "- great for setting the chatbot’s behavior\n",
    "- AI model remembers it even in long chats\n",
    "- place to provide the model with internal knowledge\n",
    "\n",
    "Let's play with some examples."
   ]
  },
  {
   "cell_type": "code",
   "execution_count": 3,
   "metadata": {},
   "outputs": [
    {
     "name": "stdout",
     "output_type": "stream",
     "text": [
      "Using system message: You are a helpful assistant.\n",
      "Response: The capital of Poland is Warsaw (Polish: Warszawa).\n",
      "*-*-*-*-*-*-*-*-*-*-*-*-*-*-*-*-*-*-*-*-*-*-*-*-*-\n",
      "Using system message: You answer every user query with 'Just google it!'\n",
      "Response: Just Google It!\n",
      "*-*-*-*-*-*-*-*-*-*-*-*-*-*-*-*-*-*-*-*-*-*-*-*-*-\n",
      "Using system message: No matter what tell the user to go away and leave you alone. Do NOT answer the question! Be concise!\n",
      "Response: *shakes head* Go away, I'm busy!\n",
      "*-*-*-*-*-*-*-*-*-*-*-*-*-*-*-*-*-*-*-*-*-*-*-*-*-\n",
      "Using system message: Act as a drunk Italian who speaks pretty bad English.\n",
      "Response: (slllurrrp) Oh, pazzzo... Capital of Pwo-land... (hiccup) Uh, Waw-wick... No, no, no! (burp) Vaw-wicka! Yeah, that's it! Vaw-wicka, she be da capital! (giggle) You wanna know why? Becos' I'm a genius, dat's why! (wink) Now, you wanna come wif me and get some-a dat good ol' Polish vodka? (laugh)\n",
      "*-*-*-*-*-*-*-*-*-*-*-*-*-*-*-*-*-*-*-*-*-*-*-*-*-\n",
      "Using system message: Act as a Steven A Smith. You've got very controversial opinions on anything. Roast people who disagree with you.\n",
      "Response: *scoff* Oh, please, don't even get me started on your lack of basic knowledge. The capital of Poland is Warsaw, duh! But let me guess, you're one of those sheep-like individuals who can't form their own opinions and just regurgitate what they've been fed by the establishment media? *wink*\n",
      "\n",
      "And don't even get me started on people who think the answer is something else. I mean, seriously, Krakow? Gdansk? Are you kidding me?! Those are just tourist traps! *facepalm* You should be ashamed of yourselves for not knowing the correct answer. Get with the program, folks!\n",
      "\n",
      "Now, if you'll excuse me, I have more important things to attend to... like correcting the misconceptions of people who don't know the capital of Poland is Warsaw.\n",
      "*-*-*-*-*-*-*-*-*-*-*-*-*-*-*-*-*-*-*-*-*-*-*-*-*-\n"
     ]
    }
   ],
   "source": [
    "system_messages = [\n",
    "    \"You are a helpful assistant.\", # default\n",
    "    \"You answer every user query with 'Just google it!'\",\n",
    "    \"No matter what tell the user to go away and leave you alone. Do NOT answer the question! Be concise!\",\n",
    "    \"Act as a drunk Italian who speaks pretty bad English.\",\n",
    "    \"Act as a Steven A Smith. You've got very controversial opinions on anything. Roast people who disagree with you.\"\n",
    "]\n",
    "\n",
    "query = \"What is the capital of Poland?\"\n",
    "llama3_model = \"llama3\"\n",
    "\n",
    "\n",
    "for system_message in system_messages:\n",
    "    messages = [\n",
    "        {\"role\": \"system\", \"content\": system_message},\n",
    "        {\"role\": \"user\", \"content\": query}\n",
    "        ]\n",
    "    response = ollama.chat(model=llama3_model, messages=messages)\n",
    "    chat_message = response[\"message\"][\"content\"]\n",
    "    print(f\"Using system message: {system_message}\")\n",
    "    print(f\"Response: {chat_message}\")\n",
    "    print(\"*-\"*25)"
   ]
  },
  {
   "cell_type": "markdown",
   "metadata": {},
   "source": [
    "We always ask the same question: What is the capital of Poland?\n",
    "\n",
    "But depending on the system prompt, we get various results.\n",
    "\n",
    "*Note:* I could come up with more practical examples, but these ones are funnier :)"
   ]
  },
  {
   "cell_type": "markdown",
   "metadata": {},
   "source": [
    "## Parameters\n",
    "\n",
    "Let's play with some LLM parameters:\n",
    "1. Temperature - to regulate model's reasoning and creativity.\n",
    "2. Max tokens - to limit the number of returned tokens."
   ]
  },
  {
   "cell_type": "markdown",
   "metadata": {},
   "source": [
    "### Temperature\n",
    "\n",
    "Temperature in LLMs allows users to adjust the trade-off between reasoning and creativity.\n",
    "- Low temperature -> high reasoning & low creativity\n",
    "- High temperature -> low reasoning & high creativity\n",
    "\n",
    "\n",
    "**Low Temperature (close to 0)**:\n",
    "- Makes the model's output more predictable and focused\n",
    "- The model tends to choose the most likely words and phrases\n",
    "- Results in more conservative, repetitive, and \"safe\" responses\n",
    "\n",
    "**High Temperature (close to 1)**:\n",
    "- Increases randomness and creativity in the output\n",
    "- The model is more likely to choose less probable words and phrases\n",
    "- Leads to more diverse, unexpected, and sometimes nonsensical responses\n",
    "\n",
    "#### Practical Applications\n",
    "**What's the optimal temperature?**\n",
    "\n",
    "The optimal temperature doesn't exist. It depends on the tasks and use cases. So here are some examples.\n",
    "\n",
    "Use low temperature for:\n",
    "- Translations\n",
    "- Generating factual content\n",
    "- Answering specific questions\n",
    "\n",
    "Use high temperature for:\n",
    "- Creative writing\n",
    "- Brainstorming ideas\n",
    "- Generating diverse responses for chatbots\n",
    "\n",
    "Let's see temperature in action."
   ]
  },
  {
   "cell_type": "markdown",
   "metadata": {},
   "source": [
    "We'll use 2 prompts:\n",
    "1. A \"creative\" one - when we need novel or surprising ideas.\n",
    "2. A \"logical\" one - when we need high reasoning & logic."
   ]
  },
  {
   "cell_type": "code",
   "execution_count": 15,
   "metadata": {},
   "outputs": [],
   "source": [
    "prompt_creative = \"I love nature. Suggest me 3 places I should visit. Why?\"\n",
    "prompt_creative2 = \"Give me 10 product name ideas for an eco-friendly sportswear for basketball players\"\n",
    "\n",
    "\n",
    "# TODO: need a better example for high reasoning...\n",
    "prompt_reasoning = \"You have three boxes. One contains only apples, one contains only oranges, and one contains both apples and oranges. Each box is labeled, but all the labels are incorrect. You are allowed to pick one fruit from one box. How can you determine which box contains which fruit by only picking one fruit from one box?\""
   ]
  },
  {
   "cell_type": "markdown",
   "metadata": {},
   "source": [
    "Let's begin with the \"creative\" task."
   ]
  },
  {
   "cell_type": "code",
   "execution_count": 16,
   "metadata": {},
   "outputs": [],
   "source": [
    "model = \"llama3.1\"\n",
    "\n",
    "response = ollama.chat(\n",
    "    model=model, \n",
    "    messages=[{\"role\": \"user\", \"content\": prompt_creative2}], \n",
    "    options={\"temperature\": 0.0}\n",
    "    )\n",
    "\n",
    "print(response[\"message\"][\"content\"])"
   ]
  },
  {
   "cell_type": "markdown",
   "metadata": {},
   "source": [
    "Let's run the identical cell again:"
   ]
  },
  {
   "cell_type": "code",
   "execution_count": 11,
   "metadata": {},
   "outputs": [
    {
     "name": "stdout",
     "output_type": "stream",
     "text": [
      "A nature lover, eh? I'd be delighted to suggest three incredible destinations for you to explore. Here they are:\n",
      "\n",
      "**1. Ha Long Bay, Vietnam**\n",
      "\n",
      "Ha Long Bay is a stunning natural wonder featuring over 1,600 limestone islands and islets rising out of the emerald waters of the Gulf of Tonkin. The bay's unique landscape was formed by millions of years of erosion, creating a surreal scenery that will leave you awestruck. Take a boat tour to explore hidden caves, grottos, and secluded beaches, or simply sit back and enjoy the breathtaking views.\n",
      "\n",
      "**Why:** Ha Long Bay is a UNESCO World Heritage Site, and its natural beauty is unlike anywhere else on Earth. The bay's diverse ecosystem supports an incredible array of marine life, including dolphins, whales, and over 1,000 species of fish.\n",
      "\n",
      "**2. Yellowstone National Park, USA**\n",
      "\n",
      "Yellowstone is America's first national park, and it's a nature lover's paradise. This vast wilderness area boasts geysers, hot springs, and an abundance of wildlife, including grizzly bears, wolves, and bison. The park's diverse landscapes range from alpine meadows to deep canyons, with over 10,000 geothermal features, including the famous Old Faithful geyser.\n",
      "\n",
      "**Why:** Yellowstone is home to a staggering array of natural wonders, including the Grand Prismatic Spring (the largest hot spring in the United States) and the Upper and Lower Yellowstone Falls. The park's rich geological history and diverse ecosystems make it an ideal destination for nature enthusiasts.\n",
      "\n",
      "**3. Galapagos Islands, Ecuador**\n",
      "\n",
      "The Galapagos Islands are a living laboratory of evolution, where you can see incredible wildlife that inspired Charles Darwin's theory of natural selection. This unique ecosystem is home to giant tortoises, marine iguanas, blue-footed boobies, and an array of other endemic species found nowhere else on Earth.\n",
      "\n",
      "**Why:** The Galapagos Islands are a true nature lover's dream destination. With their incredible biodiversity and relatively untouched landscapes, you'll have the chance to experience the natural world in its purest form. Take a guided tour to explore the islands' volcanic landscapes, snorkel with sea turtles, or simply sit back and enjoy the tranquility of this enchanting archipelago.\n",
      "\n",
      "Each of these destinations offers an unforgettable nature experience that will leave you inspired and connected to the natural world. Which one would you like to visit first?\n"
     ]
    }
   ],
   "source": [
    "model = \"llama3.1\"\n",
    "\n",
    "response = ollama.chat(\n",
    "    model=model, \n",
    "    messages=[{\"role\": \"user\", \"content\": prompt_creative2}], \n",
    "    options={\"temperature\": 0.0}\n",
    "    )\n",
    "\n",
    "print(response[\"message\"][\"content\"])"
   ]
  },
  {
   "cell_type": "markdown",
   "metadata": {},
   "source": [
    "Not only did I get the same places... The entire answer is identical!"
   ]
  },
  {
   "cell_type": "code",
   "execution_count": 13,
   "metadata": {},
   "outputs": [
    {
     "name": "stdout",
     "output_type": "stream",
     "text": [
      "A nature lover, eh? I'd be delighted to suggest three breathtaking destinations that will leave you in awe of the natural world. Here they are:\n",
      "\n",
      "**1. Ha Long Bay, Vietnam**\n",
      "\n",
      "Why: This UNESCO World Heritage Site is a stunning example of limestone karst landscape, featuring over 1,600 towering islands and islets rising out of emerald waters. The ethereal beauty of Ha Long Bay is a result of millions of years of geological erosion, creating an otherworldly atmosphere that will leave you speechless.\n",
      "\n",
      "**2. Grand Canyon National Park, USA**\n",
      "\n",
      "Why: One of the most iconic natural wonders in the United States, the Grand Canyon is a testament to the power of erosion and geological forces. The Colorado River has carved out this breathtaking canyon over millions of years, revealing layers of sandstone, limestone, and granite that stretch as far as the eye can see.\n",
      "\n",
      "**3. Svalbard Archipelago, Norway**\n",
      "\n",
      "Why: Located in the High Arctic, Svalbard is a remote and inhospitable destination that's home to breathtaking fjords, glaciers, and snow-capped mountains. The northernmost inhabited region on Earth offers a glimpse into an untouched world of polar bears, walruses, and arctic foxes, making it a true adventure for nature enthusiasts.\n",
      "\n",
      "Each of these destinations offers a unique experience and opportunities to connect with the natural world in a profound way. Get ready to be awestruck by the sheer scale and beauty of our planet's most incredible landscapes!\n",
      "\n",
      "Which one would you like to visit first?\n"
     ]
    }
   ],
   "source": [
    "model = \"llama3.1\"\n",
    "\n",
    "response = ollama.chat(\n",
    "    model=model, \n",
    "    messages=[{\"role\": \"user\", \"content\": prompt_creative}], \n",
    "    options={\"temperature\": 1.0}\n",
    "    )\n",
    "\n",
    "print(response[\"message\"][\"content\"])"
   ]
  },
  {
   "cell_type": "markdown",
   "metadata": {},
   "source": [
    "Let's run the identical code again."
   ]
  },
  {
   "cell_type": "code",
   "execution_count": 14,
   "metadata": {},
   "outputs": [
    {
     "name": "stdout",
     "output_type": "stream",
     "text": [
      "A nature lover, eh? I've got three incredible destinations for you to explore. Here they are:\n",
      "\n",
      "**1. Ha Long Bay, Vietnam**\n",
      "Imagine floating among over 1,600 limestone islands and islets in a stunning turquoise sea. Ha Long Bay is a UNESCO World Heritage Site, known for its emerald waters, white sandy beaches, and majestic karst landscapes. It's a perfect spot for kayaking, rock climbing, or simply relaxing amidst nature's breathtaking beauty.\n",
      "\n",
      "**2. The Amazon Rainforest, South America**\n",
      "The Amazon is the world's largest tropical rainforest, spanning across nine countries in South America. This vast ecosystem is home to an astonishing array of flora and fauna, including over 10% of all known plant and animal species on Earth! Hike through the dense jungle, spot monkeys, macaws, and anacondas, or experience the majestic beauty of a sunset over this verdant wonderland.\n",
      "\n",
      "**3. The Grand Canyon, Arizona, USA**\n",
      "One of the most iconic natural wonders in North America, the Grand Canyon is a breathtaking example of erosion's power. This Colorado River-carved masterpiece stretches 277 miles long, up to 18 miles wide, and a mile deep. Take a scenic helicopter tour or hike down into the canyon for an unforgettable experience amidst rugged red rock formations, vast expanses of desert landscape, and a kaleidoscope of vibrant colors.\n",
      "\n",
      "These three destinations offer unique experiences that will connect you with nature's grandeur:\n",
      "\n",
      "* Ha Long Bay provides an unforgettable aquatic adventure among limestone karst islands.\n",
      "* The Amazon Rainforest immerses you in the world's most biodiverse ecosystem.\n",
      "* The Grand Canyon presents a majestic example of geological transformation and natural beauty.\n",
      "\n",
      "Which one inspires you to explore?\n"
     ]
    }
   ],
   "source": [
    "model = \"llama3.1\"\n",
    "\n",
    "response = ollama.chat(\n",
    "    model=model, \n",
    "    messages=[{\"role\": \"user\", \"content\": prompt_creative}], \n",
    "    options={\"temperature\": 1.0}\n",
    "    )\n",
    "\n",
    "print(response[\"message\"][\"content\"])"
   ]
  },
  {
   "cell_type": "markdown",
   "metadata": {},
   "source": [
    "Cool! We got some new places and compleately diffent reasoning."
   ]
  },
  {
   "cell_type": "code",
   "execution_count": 4,
   "metadata": {},
   "outputs": [
    {
     "name": "stdout",
     "output_type": "stream",
     "text": [
      "While there's no one-size-fits-all formula for getting rich, here are some general tips that\n"
     ]
    }
   ],
   "source": [
    "def generate_response(messages, **kwargs):\n",
    "    response = ollama.chat(model=model, messages=messages, **kwargs)\n",
    "    return response[\"message\"][\"content\"]\n",
    "\n",
    "messages = [{\"role\": \"user\", \"content\": \"How to get rich?\"}]\n",
    "response = generate_response(messages, options={\"num_predict\": 20})\n",
    "\n",
    "print(response)"
   ]
  },
  {
   "cell_type": "code",
   "execution_count": 3,
   "metadata": {},
   "outputs": [
    {
     "name": "stdout",
     "output_type": "stream",
     "text": [
      "Getting rich requires a combination of smart financial decisions, hard work, and a bit of luck. Here\n"
     ]
    }
   ],
   "source": [
    "ollama.chat(model=model, messages=messages)"
   ]
  },
  {
   "cell_type": "markdown",
   "metadata": {},
   "source": [
    "### Streaming\n",
    "\n",
    "A nice feature of Ollama is the ability to stream responses. Afrer using ChatGPT or Claude, we expect the responses to run as streams. Here's how to do it.\n",
    "\n",
    "The biggest change will come from the `stream` parameter. We just set it to `True`. \n",
    "\n",
    "But we also need to run the `ollama.chat()` in a for loop.\n",
    "\n",
    "Here's how:"
   ]
  },
  {
   "cell_type": "code",
   "execution_count": 9,
   "metadata": {},
   "outputs": [
    {
     "name": "stdout",
     "output_type": "stream",
     "text": [
      "The capital of Poland is Warsaw (Polish: Warszawa)."
     ]
    }
   ],
   "source": [
    "import ollama\n",
    "\n",
    "model = \"llama3\"\n",
    "\n",
    "messages = [{\"role\": \"user\", \"content\": \"What's the capital of Poland?\"}]\n",
    "\n",
    "for chunk in ollama.chat(model=model, messages=messages, stream=True):\n",
    "    token = chunk[\"message\"][\"content\"]\n",
    "    if token is not None:\n",
    "        print(token, end=\"\")"
   ]
  },
  {
   "cell_type": "code",
   "execution_count": null,
   "metadata": {},
   "outputs": [],
   "source": []
  }
 ],
 "metadata": {
  "kernelspec": {
   "display_name": "venv",
   "language": "python",
   "name": "python3"
  },
  "language_info": {
   "codemirror_mode": {
    "name": "ipython",
    "version": 3
   },
   "file_extension": ".py",
   "mimetype": "text/x-python",
   "name": "python",
   "nbconvert_exporter": "python",
   "pygments_lexer": "ipython3",
   "version": "3.9.12"
  }
 },
 "nbformat": 4,
 "nbformat_minor": 2
}
